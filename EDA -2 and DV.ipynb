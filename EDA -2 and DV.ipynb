{
 "cells": [
  {
   "cell_type": "code",
   "execution_count": 1,
   "id": "12ac9f23",
   "metadata": {},
   "outputs": [],
   "source": [
    "import pandas as pd\n",
    "import seaborn as sns\n",
    "import matplotlib.pyplot as plt\n",
    "warnings = 'ignore'"
   ]
  },
  {
   "cell_type": "code",
   "execution_count": 2,
   "id": "e359bce7",
   "metadata": {},
   "outputs": [],
   "source": [
    "Automobile = pd.read_csv('Automobile.csv')"
   ]
  },
  {
   "cell_type": "code",
   "execution_count": 3,
   "id": "95b28180",
   "metadata": {},
   "outputs": [
    {
     "data": {
      "text/html": [
       "<div>\n",
       "<style scoped>\n",
       "    .dataframe tbody tr th:only-of-type {\n",
       "        vertical-align: middle;\n",
       "    }\n",
       "\n",
       "    .dataframe tbody tr th {\n",
       "        vertical-align: top;\n",
       "    }\n",
       "\n",
       "    .dataframe thead th {\n",
       "        text-align: right;\n",
       "    }\n",
       "</style>\n",
       "<table border=\"1\" class=\"dataframe\">\n",
       "  <thead>\n",
       "    <tr style=\"text-align: right;\">\n",
       "      <th></th>\n",
       "      <th>symboling</th>\n",
       "      <th>normalized_losses</th>\n",
       "      <th>make</th>\n",
       "      <th>fuel_type</th>\n",
       "      <th>aspiration</th>\n",
       "      <th>number_of_doors</th>\n",
       "      <th>body_style</th>\n",
       "      <th>drive_wheels</th>\n",
       "      <th>engine_location</th>\n",
       "      <th>wheel_base</th>\n",
       "      <th>...</th>\n",
       "      <th>engine_size</th>\n",
       "      <th>fuel_system</th>\n",
       "      <th>bore</th>\n",
       "      <th>stroke</th>\n",
       "      <th>compression_ratio</th>\n",
       "      <th>horsepower</th>\n",
       "      <th>peak_rpm</th>\n",
       "      <th>city_mpg</th>\n",
       "      <th>highway_mpg</th>\n",
       "      <th>price</th>\n",
       "    </tr>\n",
       "  </thead>\n",
       "  <tbody>\n",
       "    <tr>\n",
       "      <th>0</th>\n",
       "      <td>3</td>\n",
       "      <td>168</td>\n",
       "      <td>alfa-romero</td>\n",
       "      <td>gas</td>\n",
       "      <td>std</td>\n",
       "      <td>two</td>\n",
       "      <td>convertible</td>\n",
       "      <td>rwd</td>\n",
       "      <td>front</td>\n",
       "      <td>88.6</td>\n",
       "      <td>...</td>\n",
       "      <td>130</td>\n",
       "      <td>mpfi</td>\n",
       "      <td>3.47</td>\n",
       "      <td>2.68</td>\n",
       "      <td>9.0</td>\n",
       "      <td>111</td>\n",
       "      <td>5000</td>\n",
       "      <td>21</td>\n",
       "      <td>27</td>\n",
       "      <td>13495</td>\n",
       "    </tr>\n",
       "    <tr>\n",
       "      <th>1</th>\n",
       "      <td>3</td>\n",
       "      <td>168</td>\n",
       "      <td>alfa-romero</td>\n",
       "      <td>gas</td>\n",
       "      <td>std</td>\n",
       "      <td>two</td>\n",
       "      <td>convertible</td>\n",
       "      <td>rwd</td>\n",
       "      <td>front</td>\n",
       "      <td>88.6</td>\n",
       "      <td>...</td>\n",
       "      <td>130</td>\n",
       "      <td>mpfi</td>\n",
       "      <td>3.47</td>\n",
       "      <td>2.68</td>\n",
       "      <td>9.0</td>\n",
       "      <td>111</td>\n",
       "      <td>5000</td>\n",
       "      <td>21</td>\n",
       "      <td>27</td>\n",
       "      <td>16500</td>\n",
       "    </tr>\n",
       "    <tr>\n",
       "      <th>2</th>\n",
       "      <td>1</td>\n",
       "      <td>168</td>\n",
       "      <td>alfa-romero</td>\n",
       "      <td>gas</td>\n",
       "      <td>std</td>\n",
       "      <td>two</td>\n",
       "      <td>hatchback</td>\n",
       "      <td>rwd</td>\n",
       "      <td>front</td>\n",
       "      <td>94.5</td>\n",
       "      <td>...</td>\n",
       "      <td>152</td>\n",
       "      <td>mpfi</td>\n",
       "      <td>2.68</td>\n",
       "      <td>3.47</td>\n",
       "      <td>9.0</td>\n",
       "      <td>154</td>\n",
       "      <td>5000</td>\n",
       "      <td>19</td>\n",
       "      <td>26</td>\n",
       "      <td>16500</td>\n",
       "    </tr>\n",
       "    <tr>\n",
       "      <th>3</th>\n",
       "      <td>2</td>\n",
       "      <td>164</td>\n",
       "      <td>audi</td>\n",
       "      <td>gas</td>\n",
       "      <td>std</td>\n",
       "      <td>four</td>\n",
       "      <td>sedan</td>\n",
       "      <td>fwd</td>\n",
       "      <td>front</td>\n",
       "      <td>99.8</td>\n",
       "      <td>...</td>\n",
       "      <td>109</td>\n",
       "      <td>mpfi</td>\n",
       "      <td>3.19</td>\n",
       "      <td>3.40</td>\n",
       "      <td>10.0</td>\n",
       "      <td>102</td>\n",
       "      <td>5500</td>\n",
       "      <td>24</td>\n",
       "      <td>30</td>\n",
       "      <td>13950</td>\n",
       "    </tr>\n",
       "    <tr>\n",
       "      <th>4</th>\n",
       "      <td>2</td>\n",
       "      <td>164</td>\n",
       "      <td>audi</td>\n",
       "      <td>gas</td>\n",
       "      <td>std</td>\n",
       "      <td>four</td>\n",
       "      <td>sedan</td>\n",
       "      <td>4wd</td>\n",
       "      <td>front</td>\n",
       "      <td>99.4</td>\n",
       "      <td>...</td>\n",
       "      <td>136</td>\n",
       "      <td>mpfi</td>\n",
       "      <td>3.19</td>\n",
       "      <td>3.40</td>\n",
       "      <td>8.0</td>\n",
       "      <td>115</td>\n",
       "      <td>5500</td>\n",
       "      <td>18</td>\n",
       "      <td>22</td>\n",
       "      <td>17450</td>\n",
       "    </tr>\n",
       "  </tbody>\n",
       "</table>\n",
       "<p>5 rows × 26 columns</p>\n",
       "</div>"
      ],
      "text/plain": [
       "   symboling  normalized_losses         make fuel_type aspiration  \\\n",
       "0          3                168  alfa-romero       gas        std   \n",
       "1          3                168  alfa-romero       gas        std   \n",
       "2          1                168  alfa-romero       gas        std   \n",
       "3          2                164         audi       gas        std   \n",
       "4          2                164         audi       gas        std   \n",
       "\n",
       "  number_of_doors   body_style drive_wheels engine_location  wheel_base  ...  \\\n",
       "0             two  convertible          rwd           front        88.6  ...   \n",
       "1             two  convertible          rwd           front        88.6  ...   \n",
       "2             two    hatchback          rwd           front        94.5  ...   \n",
       "3            four        sedan          fwd           front        99.8  ...   \n",
       "4            four        sedan          4wd           front        99.4  ...   \n",
       "\n",
       "   engine_size  fuel_system  bore  stroke compression_ratio horsepower  \\\n",
       "0          130         mpfi  3.47    2.68               9.0        111   \n",
       "1          130         mpfi  3.47    2.68               9.0        111   \n",
       "2          152         mpfi  2.68    3.47               9.0        154   \n",
       "3          109         mpfi  3.19    3.40              10.0        102   \n",
       "4          136         mpfi  3.19    3.40               8.0        115   \n",
       "\n",
       "   peak_rpm city_mpg  highway_mpg  price  \n",
       "0      5000       21           27  13495  \n",
       "1      5000       21           27  16500  \n",
       "2      5000       19           26  16500  \n",
       "3      5500       24           30  13950  \n",
       "4      5500       18           22  17450  \n",
       "\n",
       "[5 rows x 26 columns]"
      ]
     },
     "execution_count": 3,
     "metadata": {},
     "output_type": "execute_result"
    }
   ],
   "source": [
    "Automobile.head()"
   ]
  },
  {
   "cell_type": "code",
   "execution_count": 4,
   "id": "57bff010",
   "metadata": {},
   "outputs": [
    {
     "name": "stderr",
     "output_type": "stream",
     "text": [
      "D:\\anaconda\\lib\\site-packages\\seaborn\\_decorators.py:36: FutureWarning: Pass the following variable as a keyword arg: x. From version 0.12, the only valid positional argument will be `data`, and passing other arguments without an explicit keyword will result in an error or misinterpretation.\n",
      "  warnings.warn(\n"
     ]
    },
    {
     "data": {
      "text/plain": [
       "<AxesSubplot:xlabel='body_style', ylabel='count'>"
      ]
     },
     "execution_count": 4,
     "metadata": {},
     "output_type": "execute_result"
    },
    {
     "data": {
      "image/png": "[encoded data removed]",
      "text/plain": [
       "<Figure size 432x288 with 1 Axes>"
      ]
     },
     "metadata": {
      "needs_background": "light"
     },
     "output_type": "display_data"
    }
   ],
   "source": [
    "sns.countplot(Automobile['body_style'])\n"
   ]
  },
  {
   "cell_type": "code",
   "execution_count": 5,
   "id": "3c51a592",
   "metadata": {},
   "outputs": [
    {
     "name": "stderr",
     "output_type": "stream",
     "text": [
      "D:\\anaconda\\lib\\site-packages\\seaborn\\_decorators.py:36: FutureWarning: Pass the following variables as keyword args: x, y. From version 0.12, the only valid positional argument will be `data`, and passing other arguments without an explicit keyword will result in an error or misinterpretation.\n",
      "  warnings.warn(\n"
     ]
    },
    {
     "data": {
      "text/plain": [
       "<AxesSubplot:xlabel='body_style', ylabel='horsepower'>"
      ]
     },
     "execution_count": 5,
     "metadata": {},
     "output_type": "execute_result"
    },
    {
     "data": {
      "image/png": "[encoded data removed]",
      "text/plain": [
       "<Figure size 432x288 with 1 Axes>"
      ]
     },
     "metadata": {
      "needs_background": "light"
     },
     "output_type": "display_data"
    }
   ],
   "source": [
    "sns.barplot(Automobile['body_style'], Automobile['horsepower'], hue=Automobile['engine_location'])\n"
   ]
  },
  {
   "cell_type": "code",
   "execution_count": 6,
   "id": "31645be1",
   "metadata": {},
   "outputs": [
    {
     "data": {
      "text/plain": [
       "<function matplotlib.pyplot.show(close=None, block=None)>"
      ]
     },
     "execution_count": 6,
     "metadata": {},
     "output_type": "execute_result"
    },
    {
     "data": {
      "image/png": "[encoded data removed]",
      "text/plain": [
       "<Figure size 360x360 with 1 Axes>"
      ]
     },
     "metadata": {
      "needs_background": "light"
     },
     "output_type": "display_data"
    }
   ],
   "source": [
    "sns.displot(Automobile['normalized_losses']) #it dosent work with categorical\n",
    "plt.show"
   ]
  },
  {
   "cell_type": "code",
   "execution_count": 7,
   "id": "c9a51515",
   "metadata": {},
   "outputs": [
    {
     "data": {
      "image/png": "[encoded data removed]",
      "text/plain": [
       "<Figure size 360x360 with 1 Axes>"
      ]
     },
     "metadata": {
      "needs_background": "light"
     },
     "output_type": "display_data"
    }
   ],
   "source": [
    "sns.displot(Automobile['city_mpg'], kde=False, rug=True)\n",
    "plt.show()"
   ]
  },
  {
   "cell_type": "code",
   "execution_count": 8,
   "id": "9f4e42d9",
   "metadata": {},
   "outputs": [],
   "source": [
    "x = Automobile['engine_size']\n",
    "y = Automobile['horsepower']\n"
   ]
  },
  {
   "cell_type": "code",
   "execution_count": 9,
   "id": "5909a8ed",
   "metadata": {},
   "outputs": [
    {
     "name": "stderr",
     "output_type": "stream",
     "text": [
      "D:\\anaconda\\lib\\site-packages\\seaborn\\_decorators.py:36: FutureWarning: Pass the following variables as keyword args: x, y. From version 0.12, the only valid positional argument will be `data`, and passing other arguments without an explicit keyword will result in an error or misinterpretation.\n",
      "  warnings.warn(\n"
     ]
    },
    {
     "data": {
      "text/plain": [
       "<seaborn.axisgrid.JointGrid at 0x23d5ec95100>"
      ]
     },
     "execution_count": 9,
     "metadata": {},
     "output_type": "execute_result"
    },
    {
     "data": {
      "image/png": "[encoded data removed]",
      "text/plain": [
       "<Figure size 432x432 with 3 Axes>"
      ]
     },
     "metadata": {
      "needs_background": "light"
     },
     "output_type": "display_data"
    }
   ],
   "source": [
    "sns.jointplot(x,y)"
   ]
  },
  {
   "cell_type": "code",
   "execution_count": 10,
   "id": "55d5d87d",
   "metadata": {},
   "outputs": [
    {
     "data": {
      "text/plain": [
       "<seaborn.axisgrid.PairGrid at 0x23d5ec24940>"
      ]
     },
     "execution_count": 10,
     "metadata": {},
     "output_type": "execute_result"
    },
    {
     "data": {
      "image/png": "[encoded data removed]",
      "text/plain": [
       "<Figure size 540x540 with 12 Axes>"
      ]
     },
     "metadata": {
      "needs_background": "light"
     },
     "output_type": "display_data"
    }
   ],
   "source": [
    "sns.pairplot(Automobile[['normalized_losses','engine_size', 'horsepower']])"
   ]
  },
  {
   "cell_type": "code",
   "execution_count": 11,
   "id": "f9a80997",
   "metadata": {},
   "outputs": [
    {
     "name": "stderr",
     "output_type": "stream",
     "text": [
      "D:\\anaconda\\lib\\site-packages\\seaborn\\_decorators.py:36: FutureWarning: Pass the following variables as keyword args: x, y. From version 0.12, the only valid positional argument will be `data`, and passing other arguments without an explicit keyword will result in an error or misinterpretation.\n",
      "  warnings.warn(\n"
     ]
    },
    {
     "data": {
      "text/plain": [
       "<AxesSubplot:xlabel='fuel_type', ylabel='engine_size'>"
      ]
     },
     "execution_count": 11,
     "metadata": {},
     "output_type": "execute_result"
    },
    {
     "data": {
      "image/png": "[encoded data removed]",
      "text/plain": [
       "<Figure size 432x288 with 1 Axes>"
      ]
     },
     "metadata": {
      "needs_background": "light"
     },
     "output_type": "display_data"
    }
   ],
   "source": [
    "sns.stripplot(Automobile['fuel_type'], Automobile['engine_size'])"
   ]
  },
  {
   "cell_type": "code",
   "execution_count": 12,
   "id": "16a6a7bb",
   "metadata": {},
   "outputs": [
    {
     "name": "stderr",
     "output_type": "stream",
     "text": [
      "D:\\anaconda\\lib\\site-packages\\seaborn\\_decorators.py:36: FutureWarning: Pass the following variables as keyword args: x, y. From version 0.12, the only valid positional argument will be `data`, and passing other arguments without an explicit keyword will result in an error or misinterpretation.\n",
      "  warnings.warn(\n"
     ]
    },
    {
     "data": {
      "text/plain": [
       "<AxesSubplot:xlabel='number_of_doors', ylabel='horsepower'>"
      ]
     },
     "execution_count": 12,
     "metadata": {},
     "output_type": "execute_result"
    },
    {
     "data": {
      "image/png": "[encoded data removed]",
      "text/plain": [
       "<Figure size 432x288 with 1 Axes>"
      ]
     },
     "metadata": {
      "needs_background": "light"
     },
     "output_type": "display_data"
    }
   ],
   "source": [
    "sns.boxplot(Automobile['number_of_doors'], Automobile['horsepower'], hue=Automobile['fuel_type'])\n"
   ]
  },
  {
   "cell_type": "code",
   "execution_count": 13,
   "id": "9d003661",
   "metadata": {},
   "outputs": [
    {
     "data": {
      "image/png": "[encoded data removed]",
      "text/plain": [
       "<Figure size 432x288 with 1 Axes>"
      ]
     },
     "metadata": {
      "needs_background": "light"
     },
     "output_type": "display_data"
    }
   ],
   "source": [
    "ax = plt.scatter(x,y, color = 'blue' , marker = 'o')\n"
   ]
  },
  {
   "cell_type": "code",
   "execution_count": 14,
   "id": "043480a3",
   "metadata": {},
   "outputs": [
    {
     "data": {
      "text/html": [
       "<div>\n",
       "<style scoped>\n",
       "    .dataframe tbody tr th:only-of-type {\n",
       "        vertical-align: middle;\n",
       "    }\n",
       "\n",
       "    .dataframe tbody tr th {\n",
       "        vertical-align: top;\n",
       "    }\n",
       "\n",
       "    .dataframe thead th {\n",
       "        text-align: right;\n",
       "    }\n",
       "</style>\n",
       "<table border=\"1\" class=\"dataframe\">\n",
       "  <thead>\n",
       "    <tr style=\"text-align: right;\">\n",
       "      <th></th>\n",
       "      <th>symboling</th>\n",
       "      <th>normalized_losses</th>\n",
       "      <th>wheel_base</th>\n",
       "      <th>length</th>\n",
       "      <th>width</th>\n",
       "      <th>height</th>\n",
       "      <th>curb_weight</th>\n",
       "      <th>engine_size</th>\n",
       "      <th>bore</th>\n",
       "      <th>stroke</th>\n",
       "      <th>compression_ratio</th>\n",
       "      <th>horsepower</th>\n",
       "      <th>peak_rpm</th>\n",
       "      <th>city_mpg</th>\n",
       "      <th>highway_mpg</th>\n",
       "      <th>price</th>\n",
       "    </tr>\n",
       "  </thead>\n",
       "  <tbody>\n",
       "    <tr>\n",
       "      <th>symboling</th>\n",
       "      <td>1.000000</td>\n",
       "      <td>0.474993</td>\n",
       "      <td>-0.535987</td>\n",
       "      <td>-0.365404</td>\n",
       "      <td>-0.242423</td>\n",
       "      <td>-0.550160</td>\n",
       "      <td>-0.233118</td>\n",
       "      <td>-0.110581</td>\n",
       "      <td>-0.146355</td>\n",
       "      <td>0.018373</td>\n",
       "      <td>-0.182196</td>\n",
       "      <td>0.075287</td>\n",
       "      <td>0.279849</td>\n",
       "      <td>-0.035527</td>\n",
       "      <td>0.036233</td>\n",
       "      <td>-0.082391</td>\n",
       "    </tr>\n",
       "    <tr>\n",
       "      <th>normalized_losses</th>\n",
       "      <td>0.474993</td>\n",
       "      <td>1.000000</td>\n",
       "      <td>0.007815</td>\n",
       "      <td>0.103659</td>\n",
       "      <td>0.153752</td>\n",
       "      <td>-0.335476</td>\n",
       "      <td>0.178547</td>\n",
       "      <td>0.174788</td>\n",
       "      <td>0.007498</td>\n",
       "      <td>0.062666</td>\n",
       "      <td>-0.120846</td>\n",
       "      <td>0.276665</td>\n",
       "      <td>0.211812</td>\n",
       "      <td>-0.301206</td>\n",
       "      <td>-0.264594</td>\n",
       "      <td>0.208886</td>\n",
       "    </tr>\n",
       "    <tr>\n",
       "      <th>wheel_base</th>\n",
       "      <td>-0.535987</td>\n",
       "      <td>0.007815</td>\n",
       "      <td>1.000000</td>\n",
       "      <td>0.876024</td>\n",
       "      <td>0.814507</td>\n",
       "      <td>0.590742</td>\n",
       "      <td>0.782097</td>\n",
       "      <td>0.572027</td>\n",
       "      <td>0.495210</td>\n",
       "      <td>0.148239</td>\n",
       "      <td>0.250313</td>\n",
       "      <td>0.372607</td>\n",
       "      <td>-0.362642</td>\n",
       "      <td>-0.470606</td>\n",
       "      <td>-0.543304</td>\n",
       "      <td>0.584642</td>\n",
       "    </tr>\n",
       "    <tr>\n",
       "      <th>length</th>\n",
       "      <td>-0.365404</td>\n",
       "      <td>0.103659</td>\n",
       "      <td>0.876024</td>\n",
       "      <td>1.000000</td>\n",
       "      <td>0.857170</td>\n",
       "      <td>0.492063</td>\n",
       "      <td>0.880665</td>\n",
       "      <td>0.685025</td>\n",
       "      <td>0.610324</td>\n",
       "      <td>0.116745</td>\n",
       "      <td>0.159733</td>\n",
       "      <td>0.577923</td>\n",
       "      <td>-0.281932</td>\n",
       "      <td>-0.665192</td>\n",
       "      <td>-0.698142</td>\n",
       "      <td>0.690628</td>\n",
       "    </tr>\n",
       "    <tr>\n",
       "      <th>width</th>\n",
       "      <td>-0.242423</td>\n",
       "      <td>0.153752</td>\n",
       "      <td>0.814507</td>\n",
       "      <td>0.857170</td>\n",
       "      <td>1.000000</td>\n",
       "      <td>0.306002</td>\n",
       "      <td>0.866201</td>\n",
       "      <td>0.729436</td>\n",
       "      <td>0.545028</td>\n",
       "      <td>0.186352</td>\n",
       "      <td>0.189867</td>\n",
       "      <td>0.613488</td>\n",
       "      <td>-0.242569</td>\n",
       "      <td>-0.633531</td>\n",
       "      <td>-0.680635</td>\n",
       "      <td>0.751265</td>\n",
       "    </tr>\n",
       "    <tr>\n",
       "      <th>height</th>\n",
       "      <td>-0.550160</td>\n",
       "      <td>-0.335476</td>\n",
       "      <td>0.590742</td>\n",
       "      <td>0.492063</td>\n",
       "      <td>0.306002</td>\n",
       "      <td>1.000000</td>\n",
       "      <td>0.307581</td>\n",
       "      <td>0.074694</td>\n",
       "      <td>0.186701</td>\n",
       "      <td>-0.086508</td>\n",
       "      <td>0.259737</td>\n",
       "      <td>-0.085544</td>\n",
       "      <td>-0.311922</td>\n",
       "      <td>-0.049800</td>\n",
       "      <td>-0.104812</td>\n",
       "      <td>0.135486</td>\n",
       "    </tr>\n",
       "    <tr>\n",
       "      <th>curb_weight</th>\n",
       "      <td>-0.233118</td>\n",
       "      <td>0.178547</td>\n",
       "      <td>0.782097</td>\n",
       "      <td>0.880665</td>\n",
       "      <td>0.866201</td>\n",
       "      <td>0.307581</td>\n",
       "      <td>1.000000</td>\n",
       "      <td>0.849072</td>\n",
       "      <td>0.644871</td>\n",
       "      <td>0.162179</td>\n",
       "      <td>0.156433</td>\n",
       "      <td>0.757762</td>\n",
       "      <td>-0.279027</td>\n",
       "      <td>-0.749543</td>\n",
       "      <td>-0.794889</td>\n",
       "      <td>0.834415</td>\n",
       "    </tr>\n",
       "    <tr>\n",
       "      <th>engine_size</th>\n",
       "      <td>-0.110581</td>\n",
       "      <td>0.174788</td>\n",
       "      <td>0.572027</td>\n",
       "      <td>0.685025</td>\n",
       "      <td>0.729436</td>\n",
       "      <td>0.074694</td>\n",
       "      <td>0.849072</td>\n",
       "      <td>1.000000</td>\n",
       "      <td>0.577265</td>\n",
       "      <td>0.184605</td>\n",
       "      <td>0.028889</td>\n",
       "      <td>0.821685</td>\n",
       "      <td>-0.254961</td>\n",
       "      <td>-0.650546</td>\n",
       "      <td>-0.679571</td>\n",
       "      <td>0.872335</td>\n",
       "    </tr>\n",
       "    <tr>\n",
       "      <th>bore</th>\n",
       "      <td>-0.146355</td>\n",
       "      <td>0.007498</td>\n",
       "      <td>0.495210</td>\n",
       "      <td>0.610324</td>\n",
       "      <td>0.545028</td>\n",
       "      <td>0.186701</td>\n",
       "      <td>0.644871</td>\n",
       "      <td>0.577265</td>\n",
       "      <td>1.000000</td>\n",
       "      <td>-0.057887</td>\n",
       "      <td>0.001971</td>\n",
       "      <td>0.563921</td>\n",
       "      <td>-0.269486</td>\n",
       "      <td>-0.576954</td>\n",
       "      <td>-0.586917</td>\n",
       "      <td>0.543052</td>\n",
       "    </tr>\n",
       "    <tr>\n",
       "      <th>stroke</th>\n",
       "      <td>0.018373</td>\n",
       "      <td>0.062666</td>\n",
       "      <td>0.148239</td>\n",
       "      <td>0.116745</td>\n",
       "      <td>0.186352</td>\n",
       "      <td>-0.086508</td>\n",
       "      <td>0.162179</td>\n",
       "      <td>0.184605</td>\n",
       "      <td>-0.057887</td>\n",
       "      <td>1.000000</td>\n",
       "      <td>0.183855</td>\n",
       "      <td>0.092493</td>\n",
       "      <td>-0.019004</td>\n",
       "      <td>-0.053955</td>\n",
       "      <td>-0.051793</td>\n",
       "      <td>0.081434</td>\n",
       "    </tr>\n",
       "    <tr>\n",
       "      <th>compression_ratio</th>\n",
       "      <td>-0.182196</td>\n",
       "      <td>-0.120846</td>\n",
       "      <td>0.250313</td>\n",
       "      <td>0.159733</td>\n",
       "      <td>0.189867</td>\n",
       "      <td>0.259737</td>\n",
       "      <td>0.156433</td>\n",
       "      <td>0.028889</td>\n",
       "      <td>0.001971</td>\n",
       "      <td>0.183855</td>\n",
       "      <td>1.000000</td>\n",
       "      <td>-0.212984</td>\n",
       "      <td>-0.437263</td>\n",
       "      <td>0.331425</td>\n",
       "      <td>0.268465</td>\n",
       "      <td>0.071107</td>\n",
       "    </tr>\n",
       "    <tr>\n",
       "      <th>horsepower</th>\n",
       "      <td>0.075287</td>\n",
       "      <td>0.276665</td>\n",
       "      <td>0.372607</td>\n",
       "      <td>0.577923</td>\n",
       "      <td>0.613488</td>\n",
       "      <td>-0.085544</td>\n",
       "      <td>0.757762</td>\n",
       "      <td>0.821685</td>\n",
       "      <td>0.563921</td>\n",
       "      <td>0.092493</td>\n",
       "      <td>-0.212984</td>\n",
       "      <td>1.000000</td>\n",
       "      <td>0.104645</td>\n",
       "      <td>-0.820400</td>\n",
       "      <td>-0.804241</td>\n",
       "      <td>0.810795</td>\n",
       "    </tr>\n",
       "    <tr>\n",
       "      <th>peak_rpm</th>\n",
       "      <td>0.279849</td>\n",
       "      <td>0.211812</td>\n",
       "      <td>-0.362642</td>\n",
       "      <td>-0.281932</td>\n",
       "      <td>-0.242569</td>\n",
       "      <td>-0.311922</td>\n",
       "      <td>-0.279027</td>\n",
       "      <td>-0.254961</td>\n",
       "      <td>-0.269486</td>\n",
       "      <td>-0.019004</td>\n",
       "      <td>-0.437263</td>\n",
       "      <td>0.104645</td>\n",
       "      <td>1.000000</td>\n",
       "      <td>-0.117699</td>\n",
       "      <td>-0.058054</td>\n",
       "      <td>-0.104846</td>\n",
       "    </tr>\n",
       "    <tr>\n",
       "      <th>city_mpg</th>\n",
       "      <td>-0.035527</td>\n",
       "      <td>-0.301206</td>\n",
       "      <td>-0.470606</td>\n",
       "      <td>-0.665192</td>\n",
       "      <td>-0.633531</td>\n",
       "      <td>-0.049800</td>\n",
       "      <td>-0.749543</td>\n",
       "      <td>-0.650546</td>\n",
       "      <td>-0.576954</td>\n",
       "      <td>-0.053955</td>\n",
       "      <td>0.331425</td>\n",
       "      <td>-0.820400</td>\n",
       "      <td>-0.117699</td>\n",
       "      <td>1.000000</td>\n",
       "      <td>0.972044</td>\n",
       "      <td>-0.686571</td>\n",
       "    </tr>\n",
       "    <tr>\n",
       "      <th>highway_mpg</th>\n",
       "      <td>0.036233</td>\n",
       "      <td>-0.264594</td>\n",
       "      <td>-0.543304</td>\n",
       "      <td>-0.698142</td>\n",
       "      <td>-0.680635</td>\n",
       "      <td>-0.104812</td>\n",
       "      <td>-0.794889</td>\n",
       "      <td>-0.679571</td>\n",
       "      <td>-0.586917</td>\n",
       "      <td>-0.051793</td>\n",
       "      <td>0.268465</td>\n",
       "      <td>-0.804241</td>\n",
       "      <td>-0.058054</td>\n",
       "      <td>0.972044</td>\n",
       "      <td>1.000000</td>\n",
       "      <td>-0.704692</td>\n",
       "    </tr>\n",
       "    <tr>\n",
       "      <th>price</th>\n",
       "      <td>-0.082391</td>\n",
       "      <td>0.208886</td>\n",
       "      <td>0.584642</td>\n",
       "      <td>0.690628</td>\n",
       "      <td>0.751265</td>\n",
       "      <td>0.135486</td>\n",
       "      <td>0.834415</td>\n",
       "      <td>0.872335</td>\n",
       "      <td>0.543052</td>\n",
       "      <td>0.081434</td>\n",
       "      <td>0.071107</td>\n",
       "      <td>0.810795</td>\n",
       "      <td>-0.104846</td>\n",
       "      <td>-0.686571</td>\n",
       "      <td>-0.704692</td>\n",
       "      <td>1.000000</td>\n",
       "    </tr>\n",
       "  </tbody>\n",
       "</table>\n",
       "</div>"
      ],
      "text/plain": [
       "                   symboling  normalized_losses  wheel_base    length  \\\n",
       "symboling           1.000000           0.474993   -0.535987 -0.365404   \n",
       "normalized_losses   0.474993           1.000000    0.007815  0.103659   \n",
       "wheel_base         -0.535987           0.007815    1.000000  0.876024   \n",
       "length             -0.365404           0.103659    0.876024  1.000000   \n",
       "width              -0.242423           0.153752    0.814507  0.857170   \n",
       "height             -0.550160          -0.335476    0.590742  0.492063   \n",
       "curb_weight        -0.233118           0.178547    0.782097  0.880665   \n",
       "engine_size        -0.110581           0.174788    0.572027  0.685025   \n",
       "bore               -0.146355           0.007498    0.495210  0.610324   \n",
       "stroke              0.018373           0.062666    0.148239  0.116745   \n",
       "compression_ratio  -0.182196          -0.120846    0.250313  0.159733   \n",
       "horsepower          0.075287           0.276665    0.372607  0.577923   \n",
       "peak_rpm            0.279849           0.211812   -0.362642 -0.281932   \n",
       "city_mpg           -0.035527          -0.301206   -0.470606 -0.665192   \n",
       "highway_mpg         0.036233          -0.264594   -0.543304 -0.698142   \n",
       "price              -0.082391           0.208886    0.584642  0.690628   \n",
       "\n",
       "                      width    height  curb_weight  engine_size      bore  \\\n",
       "symboling         -0.242423 -0.550160    -0.233118    -0.110581 -0.146355   \n",
       "normalized_losses  0.153752 -0.335476     0.178547     0.174788  0.007498   \n",
       "wheel_base         0.814507  0.590742     0.782097     0.572027  0.495210   \n",
       "length             0.857170  0.492063     0.880665     0.685025  0.610324   \n",
       "width              1.000000  0.306002     0.866201     0.729436  0.545028   \n",
       "height             0.306002  1.000000     0.307581     0.074694  0.186701   \n",
       "curb_weight        0.866201  0.307581     1.000000     0.849072  0.644871   \n",
       "engine_size        0.729436  0.074694     0.849072     1.000000  0.577265   \n",
       "bore               0.545028  0.186701     0.644871     0.577265  1.000000   \n",
       "stroke             0.186352 -0.086508     0.162179     0.184605 -0.057887   \n",
       "compression_ratio  0.189867  0.259737     0.156433     0.028889  0.001971   \n",
       "horsepower         0.613488 -0.085544     0.757762     0.821685  0.563921   \n",
       "peak_rpm          -0.242569 -0.311922    -0.279027    -0.254961 -0.269486   \n",
       "city_mpg          -0.633531 -0.049800    -0.749543    -0.650546 -0.576954   \n",
       "highway_mpg       -0.680635 -0.104812    -0.794889    -0.679571 -0.586917   \n",
       "price              0.751265  0.135486     0.834415     0.872335  0.543052   \n",
       "\n",
       "                     stroke  compression_ratio  horsepower  peak_rpm  \\\n",
       "symboling          0.018373          -0.182196    0.075287  0.279849   \n",
       "normalized_losses  0.062666          -0.120846    0.276665  0.211812   \n",
       "wheel_base         0.148239           0.250313    0.372607 -0.362642   \n",
       "length             0.116745           0.159733    0.577923 -0.281932   \n",
       "width              0.186352           0.189867    0.613488 -0.242569   \n",
       "height            -0.086508           0.259737   -0.085544 -0.311922   \n",
       "curb_weight        0.162179           0.156433    0.757762 -0.279027   \n",
       "engine_size        0.184605           0.028889    0.821685 -0.254961   \n",
       "bore              -0.057887           0.001971    0.563921 -0.269486   \n",
       "stroke             1.000000           0.183855    0.092493 -0.019004   \n",
       "compression_ratio  0.183855           1.000000   -0.212984 -0.437263   \n",
       "horsepower         0.092493          -0.212984    1.000000  0.104645   \n",
       "peak_rpm          -0.019004          -0.437263    0.104645  1.000000   \n",
       "city_mpg          -0.053955           0.331425   -0.820400 -0.117699   \n",
       "highway_mpg       -0.051793           0.268465   -0.804241 -0.058054   \n",
       "price              0.081434           0.071107    0.810795 -0.104846   \n",
       "\n",
       "                   city_mpg  highway_mpg     price  \n",
       "symboling         -0.035527     0.036233 -0.082391  \n",
       "normalized_losses -0.301206    -0.264594  0.208886  \n",
       "wheel_base        -0.470606    -0.543304  0.584642  \n",
       "length            -0.665192    -0.698142  0.690628  \n",
       "width             -0.633531    -0.680635  0.751265  \n",
       "height            -0.049800    -0.104812  0.135486  \n",
       "curb_weight       -0.749543    -0.794889  0.834415  \n",
       "engine_size       -0.650546    -0.679571  0.872335  \n",
       "bore              -0.576954    -0.586917  0.543052  \n",
       "stroke            -0.053955    -0.051793  0.081434  \n",
       "compression_ratio  0.331425     0.268465  0.071107  \n",
       "horsepower        -0.820400    -0.804241  0.810795  \n",
       "peak_rpm          -0.117699    -0.058054 -0.104846  \n",
       "city_mpg           1.000000     0.972044 -0.686571  \n",
       "highway_mpg        0.972044     1.000000 -0.704692  \n",
       "price             -0.686571    -0.704692  1.000000  "
      ]
     },
     "execution_count": 14,
     "metadata": {},
     "output_type": "execute_result"
    }
   ],
   "source": [
    "Automobile.corr()"
   ]
  },
  {
   "cell_type": "code",
   "execution_count": 15,
   "id": "4c2cf5b1",
   "metadata": {},
   "outputs": [
    {
     "data": {
      "text/plain": [
       "<AxesSubplot:>"
      ]
     },
     "execution_count": 15,
     "metadata": {},
     "output_type": "execute_result"
    },
    {
     "data": {
      "image/png": "[encoded data removed]",
      "text/plain": [
       "<Figure size 432x288 with 2 Axes>"
      ]
     },
     "metadata": {
      "needs_background": "light"
     },
     "output_type": "display_data"
    }
   ],
   "source": [
    "sns.heatmap(Automobile.corr())"
   ]
  },
  {
   "cell_type": "code",
   "execution_count": null,
   "id": "043d1d13",
   "metadata": {},
   "outputs": [],
   "source": []
  },
  {
   "cell_type": "code",
   "execution_count": null,
   "id": "2e792321",
   "metadata": {},
   "outputs": [],
   "source": []
  }
 ],
 "metadata": {
  "kernelspec": {
   "display_name": "Python 3 (ipykernel)",
   "language": "python",
   "name": "python3"
  },
  "language_info": {
   "codemirror_mode": {
    "name": "ipython",
    "version": 3
   },
   "file_extension": ".py",
   "mimetype": "text/x-python",
   "name": "python",
   "nbconvert_exporter": "python",
   "pygments_lexer": "ipython3",
   "version": "3.9.7"
  }
 },
 "nbformat": 4,
 "nbformat_minor": 5
}
